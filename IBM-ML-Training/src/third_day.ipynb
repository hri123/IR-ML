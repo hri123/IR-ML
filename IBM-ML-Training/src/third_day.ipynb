{
 "cells": [
  {
   "cell_type": "code",
   "execution_count": 3,
   "metadata": {},
   "outputs": [
    {
     "data": {
      "text/plain": [
       "array(['Age', 'Bought'], dtype=object)"
      ]
     },
     "execution_count": 3,
     "metadata": {},
     "output_type": "execute_result"
    }
   ],
   "source": [
    "import numpy as np\n",
    "import pandas as pd\n",
    "import matplotlib.pyplot as plt\n",
    "\n",
    "sales = pd.read_csv('/Users/hrishikesh/C/git/github.com/IR-ML/IBM-ML-Training/src/Product_sales.csv')\n",
    "\n",
    "sales.columns.values\n"
   ]
  },
  {
   "cell_type": "code",
   "execution_count": 10,
   "metadata": {},
   "outputs": [
    {
     "data": {
      "text/html": [
       "<table class=\"simpletable\">\n",
       "<caption>OLS Regression Results</caption>\n",
       "<tr>\n",
       "  <th>Dep. Variable:</th>         <td>Bought</td>      <th>  R-squared:         </th> <td>   0.842</td> \n",
       "</tr>\n",
       "<tr>\n",
       "  <th>Model:</th>                   <td>OLS</td>       <th>  Adj. R-squared:    </th> <td>   0.842</td> \n",
       "</tr>\n",
       "<tr>\n",
       "  <th>Method:</th>             <td>Least Squares</td>  <th>  F-statistic:       </th> <td>   2480.</td> \n",
       "</tr>\n",
       "<tr>\n",
       "  <th>Date:</th>             <td>Fri, 20 Sep 2019</td> <th>  Prob (F-statistic):</th> <td>1.63e-188</td>\n",
       "</tr>\n",
       "<tr>\n",
       "  <th>Time:</th>                 <td>10:29:53</td>     <th>  Log-Likelihood:    </th> <td>  95.589</td> \n",
       "</tr>\n",
       "<tr>\n",
       "  <th>No. Observations:</th>      <td>   467</td>      <th>  AIC:               </th> <td>  -187.2</td> \n",
       "</tr>\n",
       "<tr>\n",
       "  <th>Df Residuals:</th>          <td>   465</td>      <th>  BIC:               </th> <td>  -178.9</td> \n",
       "</tr>\n",
       "<tr>\n",
       "  <th>Df Model:</th>              <td>     1</td>      <th>                     </th>     <td> </td>    \n",
       "</tr>\n",
       "<tr>\n",
       "  <th>Covariance Type:</th>      <td>nonrobust</td>    <th>                     </th>     <td> </td>    \n",
       "</tr>\n",
       "</table>\n",
       "<table class=\"simpletable\">\n",
       "<tr>\n",
       "    <td></td>       <th>coef</th>     <th>std err</th>      <th>t</th>      <th>P>|t|</th>  <th>[0.025</th>    <th>0.975]</th>  \n",
       "</tr>\n",
       "<tr>\n",
       "  <th>const</th> <td>   -0.1704</td> <td>    0.015</td> <td>  -11.156</td> <td> 0.000</td> <td>   -0.200</td> <td>   -0.140</td>\n",
       "</tr>\n",
       "<tr>\n",
       "  <th>Age</th>   <td>    0.0209</td> <td>    0.000</td> <td>   49.803</td> <td> 0.000</td> <td>    0.020</td> <td>    0.022</td>\n",
       "</tr>\n",
       "</table>\n",
       "<table class=\"simpletable\">\n",
       "<tr>\n",
       "  <th>Omnibus:</th>       <td>77.279</td> <th>  Durbin-Watson:     </th> <td>   1.362</td> \n",
       "</tr>\n",
       "<tr>\n",
       "  <th>Prob(Omnibus):</th> <td> 0.000</td> <th>  Jarque-Bera (JB):  </th> <td>1022.092</td> \n",
       "</tr>\n",
       "<tr>\n",
       "  <th>Skew:</th>          <td> 0.056</td> <th>  Prob(JB):          </th> <td>1.14e-222</td>\n",
       "</tr>\n",
       "<tr>\n",
       "  <th>Kurtosis:</th>      <td>10.247</td> <th>  Cond. No.          </th> <td>    60.7</td> \n",
       "</tr>\n",
       "</table><br/><br/>Warnings:<br/>[1] Standard Errors assume that the covariance matrix of the errors is correctly specified."
      ],
      "text/plain": [
       "<class 'statsmodels.iolib.summary.Summary'>\n",
       "\"\"\"\n",
       "                            OLS Regression Results                            \n",
       "==============================================================================\n",
       "Dep. Variable:                 Bought   R-squared:                       0.842\n",
       "Model:                            OLS   Adj. R-squared:                  0.842\n",
       "Method:                 Least Squares   F-statistic:                     2480.\n",
       "Date:                Fri, 20 Sep 2019   Prob (F-statistic):          1.63e-188\n",
       "Time:                        10:29:53   Log-Likelihood:                 95.589\n",
       "No. Observations:                 467   AIC:                            -187.2\n",
       "Df Residuals:                     465   BIC:                            -178.9\n",
       "Df Model:                           1                                         \n",
       "Covariance Type:            nonrobust                                         \n",
       "==============================================================================\n",
       "                 coef    std err          t      P>|t|      [0.025      0.975]\n",
       "------------------------------------------------------------------------------\n",
       "const         -0.1704      0.015    -11.156      0.000      -0.200      -0.140\n",
       "Age            0.0209      0.000     49.803      0.000       0.020       0.022\n",
       "==============================================================================\n",
       "Omnibus:                       77.279   Durbin-Watson:                   1.362\n",
       "Prob(Omnibus):                  0.000   Jarque-Bera (JB):             1022.092\n",
       "Skew:                           0.056   Prob(JB):                    1.14e-222\n",
       "Kurtosis:                      10.247   Cond. No.                         60.7\n",
       "==============================================================================\n",
       "\n",
       "Warnings:\n",
       "[1] Standard Errors assume that the covariance matrix of the errors is correctly specified.\n",
       "\"\"\""
      ]
     },
     "execution_count": 10,
     "metadata": {},
     "output_type": "execute_result"
    }
   ],
   "source": [
    "import statsmodels.api as sm\n",
    "model = sm.OLS(sales[[\"Bought\"]], sm.add_constant(sales[[\"Age\"]]))\n",
    "fitted = model.fit()\n",
    "fitted.summary()"
   ]
  },
  {
   "cell_type": "code",
   "execution_count": 11,
   "metadata": {},
   "outputs": [
    {
     "data": {
      "text/plain": [
       "array([-0.08664394])"
      ]
     },
     "execution_count": 11,
     "metadata": {},
     "output_type": "execute_result"
    }
   ],
   "source": [
    "age1 = 4\n",
    "predict1 = fitted.predict([1, age1])\n",
    "predict1"
   ]
  },
  {
   "cell_type": "code",
   "execution_count": 12,
   "metadata": {},
   "outputs": [
    {
     "data": {
      "text/plain": [
       "[<matplotlib.lines.Line2D at 0x1c24b8cb00>]"
      ]
     },
     "execution_count": 12,
     "metadata": {},
     "output_type": "execute_result"
    },
    {
     "data": {
      "image/png": "[encoded data removed]",
      "text/plain": [
       "<Figure size 432x288 with 1 Axes>"
      ]
     },
     "metadata": {
      "needs_background": "light"
     },
     "output_type": "display_data"
    }
   ],
   "source": [
    "plt.scatter(sales.Age, sales.Bought)\n",
    "plt.plot(sales.Age, fitted.fittedvalues, c='r')"
   ]
  },
  {
   "cell_type": "code",
   "execution_count": 14,
   "metadata": {},
   "outputs": [
    {
     "name": "stderr",
     "output_type": "stream",
     "text": [
      "//anaconda3/lib/python3.7/site-packages/numpy/core/fromnumeric.py:2389: FutureWarning: Method .ptp is deprecated and will be removed in a future version. Use numpy.ptp instead.\n",
      "  return ptp(axis=axis, out=out, **kwargs)\n"
     ]
    },
    {
     "data": {
      "text/plain": [
       "[<matplotlib.lines.Line2D at 0x1c249fde10>]"
      ]
     },
     "execution_count": 14,
     "metadata": {},
     "output_type": "execute_result"
    },
    {
     "data": {
      "image/png": "[encoded data removed]",
      "text/plain": [
       "<Figure size 432x288 with 1 Axes>"
      ]
     },
     "metadata": {
      "needs_background": "light"
     },
     "output_type": "display_data"
    }
   ],
   "source": [
    "import statsmodels.api as sm\n",
    "linear = sm.OLS(sales['Bought'], sm.add_constant(sales['Age'])).fit()\n",
    "\n",
    "X_plot = np.linspace(1,65,467)\n",
    "\n",
    "plt.scatter(sales.Age, sales.Bought)\n",
    "plt.plot(X_plot, linear.predict(sm.add_constant(X_plot)), c='r')"
   ]
  },
  {
   "cell_type": "code",
   "execution_count": 15,
   "metadata": {},
   "outputs": [
    {
     "name": "stdout",
     "output_type": "stream",
     "text": [
      "Optimization terminated successfully.\n",
      "         Current function value: 0.101729\n",
      "         Iterations 9\n"
     ]
    },
    {
     "name": "stderr",
     "output_type": "stream",
     "text": [
      "//anaconda3/lib/python3.7/site-packages/numpy/core/fromnumeric.py:2389: FutureWarning: Method .ptp is deprecated and will be removed in a future version. Use numpy.ptp instead.\n",
      "  return ptp(axis=axis, out=out, **kwargs)\n"
     ]
    },
    {
     "data": {
      "text/html": [
       "<table class=\"simpletable\">\n",
       "<caption>Logit Regression Results</caption>\n",
       "<tr>\n",
       "  <th>Dep. Variable:</th>        <td>Bought</td>      <th>  No. Observations:  </th>   <td>   467</td>  \n",
       "</tr>\n",
       "<tr>\n",
       "  <th>Model:</th>                 <td>Logit</td>      <th>  Df Residuals:      </th>   <td>   465</td>  \n",
       "</tr>\n",
       "<tr>\n",
       "  <th>Method:</th>                 <td>MLE</td>       <th>  Df Model:          </th>   <td>     1</td>  \n",
       "</tr>\n",
       "<tr>\n",
       "  <th>Date:</th>            <td>Fri, 20 Sep 2019</td> <th>  Pseudo R-squ.:     </th>   <td>0.8516</td>  \n",
       "</tr>\n",
       "<tr>\n",
       "  <th>Time:</th>                <td>11:04:07</td>     <th>  Log-Likelihood:    </th>  <td> -47.507</td> \n",
       "</tr>\n",
       "<tr>\n",
       "  <th>converged:</th>             <td>True</td>       <th>  LL-Null:           </th>  <td> -320.21</td> \n",
       "</tr>\n",
       "<tr>\n",
       "  <th>Covariance Type:</th>     <td>nonrobust</td>    <th>  LLR p-value:       </th> <td>1.255e-120</td>\n",
       "</tr>\n",
       "</table>\n",
       "<table class=\"simpletable\">\n",
       "<tr>\n",
       "    <td></td>       <th>coef</th>     <th>std err</th>      <th>z</th>      <th>P>|z|</th>  <th>[0.025</th>    <th>0.975]</th>  \n",
       "</tr>\n",
       "<tr>\n",
       "  <th>const</th> <td>   -6.9097</td> <td>    0.728</td> <td>   -9.497</td> <td> 0.000</td> <td>   -8.336</td> <td>   -5.484</td>\n",
       "</tr>\n",
       "<tr>\n",
       "  <th>Age</th>   <td>    0.2179</td> <td>    0.021</td> <td>   10.418</td> <td> 0.000</td> <td>    0.177</td> <td>    0.259</td>\n",
       "</tr>\n",
       "</table>"
      ],
      "text/plain": [
       "<class 'statsmodels.iolib.summary.Summary'>\n",
       "\"\"\"\n",
       "                           Logit Regression Results                           \n",
       "==============================================================================\n",
       "Dep. Variable:                 Bought   No. Observations:                  467\n",
       "Model:                          Logit   Df Residuals:                      465\n",
       "Method:                           MLE   Df Model:                            1\n",
       "Date:                Fri, 20 Sep 2019   Pseudo R-squ.:                  0.8516\n",
       "Time:                        11:04:07   Log-Likelihood:                -47.507\n",
       "converged:                       True   LL-Null:                       -320.21\n",
       "Covariance Type:            nonrobust   LLR p-value:                1.255e-120\n",
       "==============================================================================\n",
       "                 coef    std err          z      P>|z|      [0.025      0.975]\n",
       "------------------------------------------------------------------------------\n",
       "const         -6.9097      0.728     -9.497      0.000      -8.336      -5.484\n",
       "Age            0.2179      0.021     10.418      0.000       0.177       0.259\n",
       "==============================================================================\n",
       "\"\"\""
      ]
     },
     "execution_count": 15,
     "metadata": {},
     "output_type": "execute_result"
    }
   ],
   "source": [
    "logit=sm.Logit(sales['Bought'], sm.add_constant(sales['Age'])).fit()\n",
    "logit.summary()"
   ]
  },
  {
   "cell_type": "code",
   "execution_count": 18,
   "metadata": {},
   "outputs": [
    {
     "data": {
      "text/plain": [
       "[<matplotlib.lines.Line2D at 0x11c254dd8>]"
      ]
     },
     "execution_count": 18,
     "metadata": {},
     "output_type": "execute_result"
    },
    {
     "data": {
      "image/png": "[encoded data removed]",
      "text/plain": [
       "<Figure size 432x288 with 1 Axes>"
      ]
     },
     "metadata": {
      "needs_background": "light"
     },
     "output_type": "display_data"
    }
   ],
   "source": [
    "X_plot = np.linspace(1,65,467)\n",
    "\n",
    "plt.scatter(sales.Age, sales.Bought)\n",
    "plt.plot(X_plot, logit.predict(sm.add_constant(X_plot)), c='r')\n",
    "plt.plot(X_plot, linear.predict(sm.add_constant(X_plot)), c='g')"
   ]
  },
  {
   "cell_type": "code",
   "execution_count": 21,
   "metadata": {},
   "outputs": [
    {
     "name": "stderr",
     "output_type": "stream",
     "text": [
      "//anaconda3/lib/python3.7/site-packages/sklearn/linear_model/logistic.py:432: FutureWarning: Default solver will be changed to 'lbfgs' in 0.22. Specify a solver to silence this warning.\n",
      "  FutureWarning)\n",
      "//anaconda3/lib/python3.7/site-packages/sklearn/utils/validation.py:724: DataConversionWarning: A column-vector y was passed when a 1d array was expected. Please change the shape of y to (n_samples, ), for example using ravel().\n",
      "  y = column_or_1d(y, warn=True)\n"
     ]
    },
    {
     "data": {
      "text/plain": [
       "LogisticRegression(C=1.0, class_weight=None, dual=False, fit_intercept=True,\n",
       "                   intercept_scaling=1, l1_ratio=None, max_iter=100,\n",
       "                   multi_class='warn', n_jobs=None, penalty='l2',\n",
       "                   random_state=None, solver='warn', tol=0.0001, verbose=0,\n",
       "                   warm_start=False)"
      ]
     },
     "execution_count": 21,
     "metadata": {},
     "output_type": "execute_result"
    }
   ],
   "source": [
    "from sklearn.linear_model import LogisticRegression\n",
    "logistic = LogisticRegression()\n",
    "logistic.fit(sales[[\"Age\"]], sales[['Bought']])"
   ]
  },
  {
   "cell_type": "code",
   "execution_count": 28,
   "metadata": {},
   "outputs": [
    {
     "name": "stdout",
     "output_type": "stream",
     "text": [
      "[1]\n"
     ]
    }
   ],
   "source": [
    "age1=[[44]]\n",
    "predict_age1=logistic.predict(age1)\n",
    "print(predict_age1)"
   ]
  },
  {
   "cell_type": "code",
   "execution_count": null,
   "metadata": {},
   "outputs": [],
   "source": [
    "import cv2\n",
    "img = cv2.imread('/Users/hrishikesh/C/git/github.com/IR-ML/IBM-ML-Training/src/blockchain1.jpg',1)\n",
    "print(img.shape)\n",
    "\n",
    "# shows up the image in a python shell\n",
    "cv2.imshow(\"Legend\", img)\n",
    "cv2.waitKey(0)\n",
    "cv2.destroyAllWindows() "
   ]
  },
  {
   "cell_type": "code",
   "execution_count": null,
   "metadata": {},
   "outputs": [
    {
     "name": "stdout",
     "output_type": "stream",
     "text": [
      "<class 'numpy.ndarray'>\n",
      "[[ 384  172  134  134]\n",
      " [ 658  314   80   80]\n",
      " [ 729  416   58   58]\n",
      " [ 620  462   54   54]\n",
      " [ 662  469   57   57]\n",
      " [ 204  536  138  138]\n",
      " [ 411  935   54   54]\n",
      " [ 686 1049   67   67]\n",
      " [ 842 1110   78   78]]\n"
     ]
    }
   ],
   "source": [
    "import cv2\n",
    "\n",
    "# Create a CascadeClassifier Object\n",
    "face_cascade = cv2.CascadeClassifier(\"/Users/hrishikesh/C/git/github.com/IR-ML/IBM-ML-Training/src/haarcascade_frontalface_default.xml\")\n",
    "\n",
    "# Reading the image as it is\n",
    "img = cv2.imread(\"/Users/hrishikesh/C/git/github.com/IR-ML/IBM-ML-Training/src/photo.jpg\")\n",
    "\n",
    "# Reading the image as gray scale image\n",
    "gray_img = cv2.cvtColor(img,cv2.COLOR_BGR2GRAY)\n",
    "\n",
    "# Search the co-ordintes of the image\n",
    "faces = face_cascade.detectMultiScale(gray_img, scaleFactor = 1.05,\n",
    "                                      minNeighbors=5)\n",
    "print(type(faces))\n",
    "print(faces)\n",
    "\n",
    "for x,y,w,h in faces:\n",
    "    img = cv2.rectangle(img, (x,y), (x+w,y+h),(0,255,0),3)\n",
    "\n",
    "resized = cv2.resize(img, (int(img.shape[1]/7),int(img.shape[0]/7)))\n",
    "\n",
    "cv2.imshow(\"Gray\", img)\n",
    "\n",
    "cv2.waitKey(0)\n",
    "\n",
    "cv2.destroyAllWindows()"
   ]
  },
  {
   "cell_type": "code",
   "execution_count": 3,
   "metadata": {},
   "outputs": [
    {
     "name": "stdout",
     "output_type": "stream",
     "text": [
      "RT @lilmommyriah: Trump been in LA for 2 days and still alive?? Y’all not really gangsta like y’all claim🤦🏻‍♀️\n",
      "Sentiment(polarity=0.0, subjectivity=0.30000000000000004)\n",
      "RT @CuomoPrimeTime: Giuliani: \"Some whistleblowers are liars\"\n",
      "\n",
      "@ChrisCuomo speaks with Pres. Trump's attorney @RudyGiuliani about a whistle…\n",
      "Sentiment(polarity=0.0, subjectivity=0.0)\n",
      "Trump official urges end to medical exemption for deportations https://t.co/pWNerzu2Ov via @politico\n",
      "CRY all you wa… https://t.co/EW8Y89UOvz\n",
      "Sentiment(polarity=0.0, subjectivity=0.0)\n",
      "RT @dbongino: The latest anti-Trump intell leak is now looking like ANOTHER liberal-media-symbiote attempt to distract from a bigger Dem sc…\n",
      "Sentiment(polarity=0.25, subjectivity=0.7)\n",
      "@juiceDiem trump was lying! How do we know? His lips were moving.\n",
      "Sentiment(polarity=0.0, subjectivity=0.0)\n",
      "RT @MelissaAmour72: Graham criticized Trump on Iran this week.\n",
      "\n",
      "McConnell flipped on election security this morning.\n",
      "\n",
      "Could totally be a co…\n",
      "Sentiment(polarity=0.0, subjectivity=0.75)\n",
      "RT @rolandscahill: If Trump and his minions think CNN is so fake and ‘low in the ratings’ why do they constantly go on the network ?\n",
      "Sentiment(polarity=-0.16666666666666666, subjectivity=0.5444444444444444)\n",
      "RT @_21cgirls: Netanyahu needs to be removed from politics just as Trump, 2 very dangerous men both racists &amp; bigots, blaming everyone but…\n",
      "Sentiment(polarity=-0.78, subjectivity=1.0)\n",
      "Nolte: 7 Trump Haters Who Love Them Some Blackface https://t.co/vU9rcVS1Jq via @BreitbartNews\n",
      "Sentiment(polarity=0.5, subjectivity=0.6)\n",
      "RT @stonecold2050: Trump says “my crimes can’t be investigated while I’m the president of the United States” \n",
      "\n",
      "“My Crimes” What did he just…\n",
      "Sentiment(polarity=0.0, subjectivity=0.0)\n",
      "RT @DailyCaller: President Trump’s Approval Rating Is Higher Than Obama’s At Same Time In Presidency. https://t.co/k9pG1mRuQp\n",
      "Sentiment(polarity=0.125, subjectivity=0.3125)\n",
      "RT @ProudResister: Holy shit! The whistleblower complaint didn’t just involve one act by Trump. It involved MULTIPLE ACTS by Trump. This is…\n",
      "Sentiment(polarity=-0.18333333333333335, subjectivity=0.3333333333333333)\n",
      "RT @HollyWilhelm4: California needs to realize they created their mess hence they can clean it up! Thank God for Trump!\n",
      "https://t.co/AFe5ir…\n",
      "Sentiment(polarity=0.19895833333333338, subjectivity=0.4375)\n",
      "Rachel Maddow just nailed down one of the most important details of the Trump whistleblower scandal… https://t.co/DIZTk3gjKm\n",
      "Sentiment(polarity=0.24814814814814815, subjectivity=0.5962962962962963)\n",
      "@KABOOM93330106 See dude I don’t agree with this at all. I’m a huge Trump supporter. However after looking over you… https://t.co/eSuCWFekLE\n",
      "Sentiment(polarity=0.4000000000000001, subjectivity=0.9)\n"
     ]
    }
   ],
   "source": [
    "\n",
    "import tweepy\n",
    "# If import of tweepy is a givig issues in v3.7,\n",
    "# pip install -U git+https://github.com/tweepy/tweepy.git\n",
    "# for which u need to install Git software from https://git-scm.com/downloads\n",
    "\n",
    "\n",
    "from textblob import TextBlob\n",
    "consumer_key = 'xVEM3aEPyKrJoOxe2d7JGoWLu'\n",
    "consumer_secret  = 'bg0FKtDpAwNvrEGacQnjc7L2pOSzcJhJuTpnAfUNukPQCkEHc4'\n",
    "access_token = '88174089-fK3G367LwBKKxmvBVphNvuDWM3kKoN5o2D7aE2K4k'\n",
    "access_token_secret = '2R9DvUrnbcbHA2hnED3R7fixsociyOyp54alN1pOIhSKP'\n",
    "auth = tweepy.OAuthHandler(consumer_key, consumer_secret)\n",
    "auth.set_access_token(access_token, access_token_secret)\n",
    "api = tweepy.API(auth)\n",
    "public_tweets = api.search('trump')\n",
    "for tweet in public_tweets:\n",
    "    print(tweet.text)\n",
    "    analysis = TextBlob(tweet.text)\n",
    "    print(analysis.sentiment)"
   ]
  },
  {
   "cell_type": "code",
   "execution_count": 4,
   "metadata": {},
   "outputs": [
    {
     "name": "stdout",
     "output_type": "stream",
     "text": [
      "RT @CNNnews18: #BREAKING – Biggest ever gain for #Sensex and #Nifty in the last 10 years.\n",
      "\n",
      "This is after Finance Minister @nsitharaman’s ma…\n",
      "Sentiment(polarity=0.0, subjectivity=0.06666666666666667)\n",
      "RT @ssomurice_round: ヒラリーは、ゴールドマンサックスの歯車として機能していた。\n",
      "\n",
      "シリアの石油利権を強奪するために、ヒラリーとサウジ反王子勢力が組んで、テロ組織ISを送り込んだことが、既にリークされている。\n",
      "\n",
      "これがヒラリーメール疑惑の核心だ。\n",
      "\n",
      "『アサン…\n",
      "Sentiment(polarity=0.0, subjectivity=0.0)\n",
      "RT @narendramodi177: Nifty &amp; #Sensex See Highest Gain In 10yrs\n",
      "\n",
      "Nifty Bank Highest Gain In 6yrs\n",
      "\n",
      "Nifty Midcap Highest In 10yrs\n",
      "\n",
      "Maruti Suzu…\n",
      "Sentiment(polarity=0.0, subjectivity=0.0)\n",
      "RT @Sanju_Verma_: #Nifty&amp; #Sensex see highest gain in 10yrs\n",
      "\n",
      "#NiftyBank highest gain in 6yrs\n",
      "\n",
      "#NiftyMetal index highest in 3yrs\n",
      "\n",
      "#NiftyMidc…\n",
      "Sentiment(polarity=0.0, subjectivity=0.0)\n",
      "RT @Nigel__DSouza: THROWBACK\n",
      "*FM Chidambaram reduced corporate taxes in 1997 by 5%\n",
      "*In the following 4 sessions Nifty rallied 13.4%\n",
      "\n",
      "Indian…\n",
      "Sentiment(polarity=0.0, subjectivity=0.05)\n",
      "so how many billions FII buy figure will look like after end of day? #Nifty\n",
      "Sentiment(polarity=0.5, subjectivity=0.5)\n",
      "RT @CNBCTV18Live: Take a look at the companies that have a tax rate of more than 25%\n",
      "\n",
      "#NirmalaSitharaman \n",
      "#TaxRateCut\n",
      "#Sensex #Nifty https:…\n",
      "Sentiment(polarity=0.5, subjectivity=0.5)\n",
      "今日のタンチョウ https://t.co/NDJGl47yoI\n",
      "Sentiment(polarity=0.0, subjectivity=0.0)\n",
      "RT @SirJadeja: #CorporateTax slashed for domestic companies\n",
      "✅From 30% to 22%+surcharge+cess =25.17%\n",
      "✅From 25% to15% for new manufacturing c…\n",
      "Sentiment(polarity=0.06818181818181818, subjectivity=0.2772727272727273)\n",
      "RT @erbmjha: Pidis reaction after biggest ever gain in Sensex &amp; Nifty in last 10 years 😹\n",
      "https://t.co/QXbaNI8XNP\n",
      "Sentiment(polarity=0.0, subjectivity=0.06666666666666667)\n",
      "RT @CNBCTV18Live: Take a look at the companies that have a tax rate of more than 25%\n",
      "\n",
      "#NirmalaSitharaman \n",
      "#TaxRateCut\n",
      "#Sensex #Nifty https:…\n",
      "Sentiment(polarity=0.5, subjectivity=0.5)\n",
      "Nifty &amp; #Sensex See Highest Gain In 10yrs\n",
      "\n",
      "Nifty Bank Highest Gain In 6yrs\n",
      "\n",
      "Nifty Midcap Highest In 10yrs\n",
      "\n",
      "Maruti S… https://t.co/AchT5PCKpN\n",
      "Sentiment(polarity=0.0, subjectivity=0.0)\n",
      "#trendline held by nifty on weekly chart! #nifty #sensex https://t.co/fK8SmY4TIG\n",
      "Sentiment(polarity=0.0, subjectivity=0.0)\n",
      "RT @kanjimansai: 早速始まった、高市総務相叩き。その手には乗らない。【高市総務相に国契約業者献金｜ニフティニュース https://t.co/CEGgKVOgNQ】\n",
      "Sentiment(polarity=0.0, subjectivity=0.0)\n",
      "This move of #nifty is looking difficult to sustain, maruti travelled more than 900 point and reduced 300 points, t… https://t.co/5zpAucfjno\n",
      "Sentiment(polarity=0.0, subjectivity=0.75)\n"
     ]
    }
   ],
   "source": [
    "# If import of tweepy is a givig issues in v3.7,\n",
    "# pip install -U git+https://github.com/tweepy/tweepy.git\n",
    "# for which u need to install Git software from https://git-scm.com/downloads\n",
    "from textblob import TextBlob\n",
    "consumer_key = ''\n",
    "consumer_secret  = ''\n",
    "access_token = ''\n",
    "access_token_secret = ''\n",
    "auth = tweepy.OAuthHandler(consumer_key, consumer_secret)\n",
    "auth.set_access_token(access_token, access_token_secret)\n",
    "api = tweepy.API(auth)\n",
    "public_tweets = api.search('NIFTY')\n",
    "for tweet in public_tweets:\n",
    "   print(tweet.text)\n",
    "   analysis = TextBlob(tweet.text)\n",
    "   print(analysis.sentiment)"
   ]
  },
  {
   "cell_type": "code",
   "execution_count": null,
   "metadata": {},
   "outputs": [],
   "source": []
  }
 ],
 "metadata": {
  "kernelspec": {
   "display_name": "Python 3",
   "language": "python",
   "name": "python3"
  },
  "language_info": {
   "codemirror_mode": {
    "name": "ipython",
    "version": 3
   },
   "file_extension": ".py",
   "mimetype": "text/x-python",
   "name": "python",
   "nbconvert_exporter": "python",
   "pygments_lexer": "ipython3",
   "version": "3.7.3"
  }
 },
 "nbformat": 4,
 "nbformat_minor": 2
}
