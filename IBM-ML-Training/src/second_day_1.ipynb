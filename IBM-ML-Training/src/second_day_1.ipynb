{
 "cells": [
  {
   "cell_type": "code",
   "execution_count": 16,
   "metadata": {},
   "outputs": [
    {
     "name": "stdout",
     "output_type": "stream",
     "text": [
      "[[1 2 3]\n",
      " [4 5 6]]\n"
     ]
    }
   ],
   "source": [
    "import numpy as np\n",
    "a = np.array([(1,2,3),(4,5,6)])\n",
    "print(a)"
   ]
  },
  {
   "cell_type": "code",
   "execution_count": 17,
   "metadata": {},
   "outputs": [
    {
     "name": "stdout",
     "output_type": "stream",
     "text": [
      "[[1 2 3 4]\n",
      " [5 6 7 8]]\n",
      "(2, 4)\n"
     ]
    }
   ],
   "source": [
    "import numpy as np\n",
    "a = np.array([(1,2,3,4),(5,6,7,8)])\n",
    "print(a)\n",
    "print(a.shape)"
   ]
  },
  {
   "cell_type": "code",
   "execution_count": 18,
   "metadata": {},
   "outputs": [
    {
     "name": "stdout",
     "output_type": "stream",
     "text": [
      "[[1 2]\n",
      " [3 4]\n",
      " [5 6]\n",
      " [7 8]]\n"
     ]
    }
   ],
   "source": [
    "a = a.reshape(4,2)\n",
    "print(a)"
   ]
  },
  {
   "cell_type": "code",
   "execution_count": 19,
   "metadata": {},
   "outputs": [
    {
     "name": "stdout",
     "output_type": "stream",
     "text": [
      "[[1 1 2 2]\n",
      " [3 3 4 4]\n",
      " [5 5 6 6]\n",
      " [7 7 8 8]]\n"
     ]
    }
   ],
   "source": [
    "a = a.repeat(2,1)\n",
    "print(a)"
   ]
  },
  {
   "cell_type": "code",
   "execution_count": 26,
   "metadata": {},
   "outputs": [
    {
     "name": "stdout",
     "output_type": "stream",
     "text": [
      "[[1.         1.41421356 1.73205081 2.        ]\n",
      " [1.73205081 2.         2.23606798 2.23606798]\n",
      " [1.         1.41421356 1.73205081 2.23606798]]\n",
      "1.404358295529393\n",
      "[[ 2  4  6  8]\n",
      " [ 6  8 10 10]\n",
      " [ 2  4  6 11]]\n",
      "======\n",
      "(6, 4)\n",
      "(3, 8)\n"
     ]
    }
   ],
   "source": [
    "import numpy as np\n",
    "a = np.array([(1,2,3,4),(3,4,5,5),(1,2,3,5)])\n",
    "b = np.array([(1,2,3,4),(3,4,5,5),(1,2,3,6)])\n",
    "print(np.sqrt(a))\n",
    "print(np.std(a))\n",
    "print(a+b)\n",
    "print('======')\n",
    "print(np.vstack((a,b)).shape)\n",
    "print(np.hstack((a,b)).shape)"
   ]
  },
  {
   "cell_type": "code",
   "execution_count": 27,
   "metadata": {},
   "outputs": [
    {
     "name": "stdout",
     "output_type": "stream",
     "text": [
      "[1 2 3 4 3 4 5 5 1 2 3 5]\n"
     ]
    }
   ],
   "source": [
    "print(a.ravel())"
   ]
  },
  {
   "cell_type": "code",
   "execution_count": 45,
   "metadata": {},
   "outputs": [
    {
     "name": "stdout",
     "output_type": "stream",
     "text": [
      "          day  temperature  windspeed  event\n",
      "0    1/1/2018         32.5          5   rain\n",
      "1    1/2/2018         31.8          6  sunny\n",
      "2    1/3/2018         34.0          7  windy\n",
      "3    1/4/2018         33.0          4   rain\n",
      "4    1/5/2018         32.0          5  sunny\n",
      "5    1/6/2018         33.0          7  windy\n",
      "6    1/7/2018         32.0          6   rain\n",
      "7    1/8/2018         32.0          5  sunny\n",
      "8    1/9/2018         34.0          4  windy\n",
      "9   1/10/2018         23.0          3   rain\n",
      "10  1/11/2018         24.0          4  sunny\n",
      "11  1/12/2018         25.0          5  windy\n",
      "12  1/13/2018         26.0          7   rain\n",
      "13  1/14/2018         27.0          7  sunny\n",
      "Index(['day', 'temperature', 'windspeed', 'event'], dtype='object')\n",
      "        day  temperature  windspeed  event\n",
      "2  1/3/2018         34.0          7  windy\n",
      "8  1/9/2018         34.0          4  windy\n",
      "       temperature  windspeed\n",
      "count    14.000000  14.000000\n",
      "mean     29.950000   5.357143\n",
      "std       3.985117   1.336306\n",
      "min      23.000000   3.000000\n",
      "25%      26.250000   4.250000\n",
      "50%      32.000000   5.000000\n",
      "75%      32.875000   6.750000\n",
      "max      34.000000   7.000000\n"
     ]
    }
   ],
   "source": [
    "import pandas\n",
    "df = pandas.read_csv('/Users/hrishikesh/C/git/github.com/IR-ML/IBM-ML-Training/src/sfo.csv')\n",
    "print(df)\n",
    "print(df.columns)\n",
    "print(df[df['temperature'] == df['temperature'].max()])\n",
    "print(df.describe())"
   ]
  },
  {
   "cell_type": "code",
   "execution_count": 52,
   "metadata": {},
   "outputs": [
    {
     "name": "stdout",
     "output_type": "stream",
     "text": [
      "None\n",
      "           temperature  windspeed  event\n",
      "day                                     \n",
      "1/1/2018          32.5          5   rain\n",
      "1/2/2018          31.8          6  sunny\n",
      "1/3/2018          34.0          7  windy\n",
      "1/4/2018          33.0          4   rain\n",
      "1/5/2018          32.0          5  sunny\n",
      "1/6/2018          33.0          7  windy\n",
      "1/7/2018          32.0          6   rain\n",
      "1/8/2018          32.0          5  sunny\n",
      "1/9/2018          34.0          4  windy\n",
      "1/10/2018         23.0          3   rain\n",
      "1/11/2018         24.0          4  sunny\n",
      "1/12/2018         25.0          5  windy\n",
      "1/13/2018         26.0          7   rain\n",
      "1/14/2018         27.0          7  sunny\n",
      "temperature       34\n",
      "windspeed          7\n",
      "event          windy\n",
      "Name: 1/3/2018, dtype: object\n",
      "          day  temperature  windspeed  event\n",
      "0    1/1/2018         32.5          5   rain\n",
      "1    1/2/2018         31.8          6  sunny\n",
      "2    1/3/2018         34.0          7  windy\n",
      "3    1/4/2018         33.0          4   rain\n",
      "4    1/5/2018         32.0          5  sunny\n",
      "5    1/6/2018         33.0          7  windy\n",
      "6    1/7/2018         32.0          6   rain\n",
      "7    1/8/2018         32.0          5  sunny\n",
      "8    1/9/2018         34.0          4  windy\n",
      "9   1/10/2018         23.0          3   rain\n",
      "10  1/11/2018         24.0          4  sunny\n",
      "11  1/12/2018         25.0          5  windy\n",
      "12  1/13/2018         26.0          7   rain\n",
      "13  1/14/2018         27.0          7  sunny\n"
     ]
    }
   ],
   "source": [
    "print(df.set_index('day', inplace=True))\n",
    "print(df)\n",
    "print(df.loc['1/3/2018'])\n",
    "df.reset_index(inplace=True)\n",
    "print(df)\n"
   ]
  },
  {
   "cell_type": "code",
   "execution_count": 59,
   "metadata": {},
   "outputs": [
    {
     "name": "stdout",
     "output_type": "stream",
     "text": [
      "          day  temperature  windspeed  event\n",
      "0  2018-01-01           32          5   rain\n",
      "1  2018-01-02           31          6  sunny\n",
      "2  2018-01-03           34          7  windy\n",
      "3  2018-01-04           33          4   rain\n",
      "4  2018-01-05           32          5  sunny\n",
      "5  2018-01-06           33          7  windy\n",
      "6  2018-01-07           32          6   rain\n",
      "7  2018-01-08           32          5  sunny\n",
      "8  2018-01-09           34          4  windy\n",
      "9  2018-01-10           23          3   rain\n",
      "10 2018-01-11           24          4  sunny\n",
      "11 2018-01-12           25          5  windy\n",
      "12 2018-01-13           26          7   rain\n",
      "13 2018-01-14           27          7  sunny\n"
     ]
    }
   ],
   "source": [
    "df_excel = pandas.read_excel('/Users/hrishikesh/C/git/github.com/IR-ML/IBM-ML-Training/src/sfo.xlsx', \"Sheet1\")\n",
    "print(df_excel)\n"
   ]
  },
  {
   "cell_type": "code",
   "execution_count": 62,
   "metadata": {},
   "outputs": [
    {
     "name": "stdout",
     "output_type": "stream",
     "text": [
      "    Week_num  Passengers  Promotion_Budget  Service_Quality_Score  \\\n",
      "0          1       37824            517356                4.00000   \n",
      "1          2       43936            646086                2.67466   \n",
      "2          3       42896            638330                3.29473   \n",
      "3          4       35792            506492                3.85684   \n",
      "4          5       38624            609658                3.90757   \n",
      "5          6       35744            476084                3.83710   \n",
      "6          7       40752            635978                3.60259   \n",
      "7          8       34592            495152                3.60086   \n",
      "8          9       35136            429800                3.62776   \n",
      "9         10       43328            613326                2.98305   \n",
      "10        11       34960            492758                3.60089   \n",
      "11        12       44464            600726                2.56064   \n",
      "12        13       36464            456960                3.89655   \n",
      "13        14       44464            586096                2.47713   \n",
      "14        15       51888            704802                1.77422   \n",
      "15        16       36800            536970                3.92254   \n",
      "16        17       48688            742308                1.93589   \n",
      "17        18       37456            500234                3.99060   \n",
      "18        19       44800            570682                2.43241   \n",
      "19        20       56032            826420                1.41139   \n",
      "20        21       58800            761040                1.24488   \n",
      "21        22       57440            753466                1.36091   \n",
      "22        23       32752            502712                3.37428   \n",
      "23        24       43424            653856                2.88878   \n",
      "24        25       45968            706748                2.31898   \n",
      "25        26       38816            532602                3.85307   \n",
      "26        27       35168            518070                3.70671   \n",
      "27        28       34496            539378                3.48455   \n",
      "28        29       34208            414120                3.48166   \n",
      "29        30       44320            653338                2.58325   \n",
      "..       ...         ...               ...                    ...   \n",
      "50        51       43728            590492                2.77882   \n",
      "51        52       47040            694568                2.06989   \n",
      "52        53       34512            493444                3.57125   \n",
      "53        54       57600            781718                1.35511   \n",
      "54        55       36064            526162                3.87218   \n",
      "55        56       49392            707070                1.91865   \n",
      "56        57       42378            545510                3.46630   \n",
      "57        58       38584            555170                3.99116   \n",
      "58        59       28700            405916                3.07021   \n",
      "59        60       55160            738794                1.48667   \n",
      "60        61       52472            666778                1.58686   \n",
      "61        62       54474            715498                1.52341   \n",
      "62        63       54222            754418                1.58647   \n",
      "63        64       73444           1012130                0.91298   \n",
      "64        65       67130           1003002                0.98050   \n",
      "65        66       39984            589526                3.77575   \n",
      "66        67       41972            550872                3.49699   \n",
      "67        68       43722            652680                2.84565   \n",
      "68        69       76972           1041796                0.87470   \n",
      "69        70       58156            881818                1.33013   \n",
      "70        71       52304            679938                1.68678   \n",
      "71        72       76524           1024450                0.87933   \n",
      "72        73       60620            844578                1.15504   \n",
      "73        74       32018            445424                3.23666   \n",
      "74        75       51814            669144                1.87321   \n",
      "75        76       66934            927696                1.07138   \n",
      "76        77       81228           1108254                0.85536   \n",
      "77        78       43288            638162                3.08191   \n",
      "78        79       43834            636636                2.75382   \n",
      "79        80       40852            575008                3.52768   \n",
      "\n",
      "   Holiday_week Delayed_Cancelled_flight_ind  Inter_metro_flight_ratio  \\\n",
      "0            NO                           NO                      0.70   \n",
      "1            NO                          YES                      0.80   \n",
      "2            NO                           NO                      0.90   \n",
      "3            NO                           NO                      0.40   \n",
      "4            NO                           NO                      0.87   \n",
      "5            NO                          YES                      0.66   \n",
      "6            NO                          YES                      0.74   \n",
      "7            NO                          YES                      0.39   \n",
      "8            NO                           NO                      0.61   \n",
      "9            NO                           NO                      0.66   \n",
      "10           NO                           NO                      0.77   \n",
      "11           NO                          YES                      0.74   \n",
      "12           NO                          YES                      0.39   \n",
      "13           NO                          YES                      0.79   \n",
      "14          YES                          YES                      0.72   \n",
      "15           NO                           NO                      0.43   \n",
      "16           NO                           NO                      0.90   \n",
      "17           NO                           NO                      0.46   \n",
      "18           NO                          YES                      0.79   \n",
      "19          YES                          YES                      0.80   \n",
      "20          YES                           NO                      0.69   \n",
      "21          YES                           NO                      0.60   \n",
      "22           NO                          YES                      0.45   \n",
      "23           NO                          YES                      0.89   \n",
      "24           NO                          YES                      0.62   \n",
      "25           NO                           NO                      0.75   \n",
      "26           NO                          YES                      0.47   \n",
      "27           NO                          YES                      0.78   \n",
      "28           NO                          YES                      0.38   \n",
      "29           NO                           NO                      0.71   \n",
      "..          ...                          ...                       ...   \n",
      "50           NO                          YES                      0.47   \n",
      "51           NO                          YES                      0.55   \n",
      "52           NO                           NO                      0.74   \n",
      "53          YES                           NO                      0.67   \n",
      "54           NO                          YES                      0.73   \n",
      "55           NO                           NO                      0.75   \n",
      "56           NO                           NO                      0.62   \n",
      "57           NO                           NO                      0.77   \n",
      "58           NO                           NO                      0.72   \n",
      "59          YES                          YES                      0.71   \n",
      "60          YES                          YES                      0.90   \n",
      "61          YES                          YES                      0.55   \n",
      "62          YES                           NO                      0.78   \n",
      "63          YES                          YES                      0.90   \n",
      "64          YES                           NO                      0.79   \n",
      "65           NO                           NO                      0.81   \n",
      "66           NO                          YES                      0.68   \n",
      "67           NO                          YES                      0.69   \n",
      "68          YES                          YES                      0.90   \n",
      "69          YES                           NO                      0.82   \n",
      "70          YES                           NO                      0.63   \n",
      "71          YES                          YES                      0.90   \n",
      "72          YES                           NO                      0.90   \n",
      "73           NO                          YES                      0.64   \n",
      "74          YES                           NO                      0.88   \n",
      "75          YES                          YES                      0.84   \n",
      "76          YES                          YES                      0.90   \n",
      "77           NO                           NO                      0.62   \n",
      "78           NO                          YES                      0.79   \n",
      "79           NO                          YES                      0.54   \n",
      "\n",
      "   Bad_Weather_Ind Technical_issues_ind  \n",
      "0              YES                  YES  \n",
      "1              YES                  YES  \n",
      "2               NO                   NO  \n",
      "3               NO                   NO  \n",
      "4               NO                  YES  \n",
      "5              YES                   NO  \n",
      "6              YES                   NO  \n",
      "7               NO                   NO  \n",
      "8               NO                  YES  \n",
      "9               NO                   NO  \n",
      "10              NO                   NO  \n",
      "11             YES                   NO  \n",
      "12             YES                   NO  \n",
      "13             YES                   NO  \n",
      "14             YES                  YES  \n",
      "15              NO                  YES  \n",
      "16              NO                  YES  \n",
      "17              NO                   NO  \n",
      "18             YES                  YES  \n",
      "19             YES                   NO  \n",
      "20              NO                   NO  \n",
      "21              NO                   NO  \n",
      "22             YES                  YES  \n",
      "23             YES                  YES  \n",
      "24             YES                   NO  \n",
      "25              NO                  YES  \n",
      "26             YES                  YES  \n",
      "27             YES                  YES  \n",
      "28             YES                   NO  \n",
      "29              NO                  YES  \n",
      "..             ...                  ...  \n",
      "50             YES                   NO  \n",
      "51             YES                   NO  \n",
      "52              NO                  YES  \n",
      "53              NO                  YES  \n",
      "54              NO                  YES  \n",
      "55              NO                   NO  \n",
      "56              NO                  YES  \n",
      "57              NO                   NO  \n",
      "58              NO                   NO  \n",
      "59             YES                   NO  \n",
      "60             YES                   NO  \n",
      "61             YES                   NO  \n",
      "62             YES                   NO  \n",
      "63             YES                   NO  \n",
      "64              NO                  YES  \n",
      "65              NO                   NO  \n",
      "66             YES                  YES  \n",
      "67             YES                   NO  \n",
      "68             YES                   NO  \n",
      "69              NO                   NO  \n",
      "70              NO                  YES  \n",
      "71             YES                   NO  \n",
      "72              NO                  YES  \n",
      "73             YES                  YES  \n",
      "74              NO                  YES  \n",
      "75              NO                   NO  \n",
      "76             YES                   NO  \n",
      "77              NO                   NO  \n",
      "78             YES                  YES  \n",
      "79             YES                  YES  \n",
      "\n",
      "[80 rows x 9 columns]\n",
      "(80, 9)\n",
      "['Week_num' 'Passengers' 'Promotion_Budget' 'Service_Quality_Score'\n",
      " 'Holiday_week' 'Delayed_Cancelled_flight_ind' 'Inter_metro_flight_ratio'\n",
      " 'Bad_Weather_Ind' 'Technical_issues_ind']\n",
      "   Week_num  Passengers  Promotion_Budget  Service_Quality_Score Holiday_week  \\\n",
      "0         1       37824            517356                4.00000           NO   \n",
      "1         2       43936            646086                2.67466           NO   \n",
      "2         3       42896            638330                3.29473           NO   \n",
      "3         4       35792            506492                3.85684           NO   \n",
      "4         5       38624            609658                3.90757           NO   \n",
      "5         6       35744            476084                3.83710           NO   \n",
      "6         7       40752            635978                3.60259           NO   \n",
      "7         8       34592            495152                3.60086           NO   \n",
      "8         9       35136            429800                3.62776           NO   \n",
      "9        10       43328            613326                2.98305           NO   \n",
      "\n",
      "  Delayed_Cancelled_flight_ind  Inter_metro_flight_ratio Bad_Weather_Ind  \\\n",
      "0                           NO                      0.70             YES   \n",
      "1                          YES                      0.80             YES   \n",
      "2                           NO                      0.90              NO   \n",
      "3                           NO                      0.40              NO   \n",
      "4                           NO                      0.87              NO   \n",
      "5                          YES                      0.66             YES   \n",
      "6                          YES                      0.74             YES   \n",
      "7                          YES                      0.39              NO   \n",
      "8                           NO                      0.61              NO   \n",
      "9                           NO                      0.66              NO   \n",
      "\n",
      "  Technical_issues_ind  \n",
      "0                  YES  \n",
      "1                  YES  \n",
      "2                   NO  \n",
      "3                   NO  \n",
      "4                  YES  \n",
      "5                   NO  \n",
      "6                   NO  \n",
      "7                   NO  \n",
      "8                  YES  \n",
      "9                   NO  \n",
      "       Week_num    Passengers  Promotion_Budget  Service_Quality_Score  \\\n",
      "count   80.0000     80.000000      8.000000e+01              80.000000   \n",
      "mean    40.5000  44745.025000      6.254223e+05               2.781168   \n",
      "std     23.2379  11267.155215      1.565143e+05               1.000204   \n",
      "min      1.0000  28700.000000      3.656800e+05               0.855360   \n",
      "25%     20.7500  36424.000000      5.178915e+05               1.931580   \n",
      "50%     40.5000  43144.000000      5.979190e+05               3.108120   \n",
      "75%     60.2500  48864.000000      6.885935e+05               3.608883   \n",
      "max     80.0000  81228.000000      1.108254e+06               4.000000   \n",
      "\n",
      "       Inter_metro_flight_ratio  \n",
      "count                 80.000000  \n",
      "mean                   0.693000  \n",
      "std                    0.158045  \n",
      "min                    0.380000  \n",
      "25%                    0.610000  \n",
      "50%                    0.720000  \n",
      "75%                    0.802500  \n",
      "max                    0.900000  \n"
     ]
    }
   ],
   "source": [
    "import pandas as pd\n",
    "import numpy as np\n",
    "import matplotlib.pyplot as plt\n",
    "\n",
    "air = pandas.read_csv('/Users/hrishikesh/C/git/github.com/IR-ML/IBM-ML-Training/src/AirPassengers.csv')\n",
    "print(air)\n",
    "print(air.shape)\n",
    "print(air.columns.values)\n",
    "print(air.head(10))\n",
    "print(air.describe())\n",
    "\n"
   ]
  },
  {
   "cell_type": "code",
   "execution_count": 64,
   "metadata": {},
   "outputs": [
    {
     "name": "stdout",
     "output_type": "stream",
     "text": [
      "[[1.         0.96585103]\n",
      " [0.96585103 1.        ]]\n"
     ]
    }
   ],
   "source": [
    "print(np.corrcoef(air.Passengers, air.Promotion_Budget))"
   ]
  },
  {
   "cell_type": "code",
   "execution_count": 65,
   "metadata": {},
   "outputs": [
    {
     "name": "stdout",
     "output_type": "stream",
     "text": [
      "[[ 1.         -0.88653002]\n",
      " [-0.88653002  1.        ]]\n"
     ]
    }
   ],
   "source": [
    "print(np.corrcoef(air.Passengers, air.Service_Quality_Score))"
   ]
  },
  {
   "cell_type": "code",
   "execution_count": 66,
   "metadata": {},
   "outputs": [
    {
     "data": {
      "image/png": "[encoded data removed]",
      "text/plain": [
       "<Figure size 432x288 with 1 Axes>"
      ]
     },
     "metadata": {
      "needs_background": "light"
     },
     "output_type": "display_data"
    }
   ],
   "source": [
    "plt.scatter(air.Passengers, air.Promotion_Budget)\n",
    "plt.show()"
   ]
  },
  {
   "cell_type": "code",
   "execution_count": 76,
   "metadata": {},
   "outputs": [
    {
     "data": {
      "image/png": "[encoded data removed]",
      "text/plain": [
       "<Figure size 432x288 with 1 Axes>"
      ]
     },
     "metadata": {
      "needs_background": "light"
     },
     "output_type": "display_data"
    },
    {
     "name": "stdout",
     "output_type": "stream",
     "text": [
      "None\n"
     ]
    },
    {
     "data": {
      "text/plain": [
       "array([418785.36599038])"
      ]
     },
     "execution_count": 76,
     "metadata": {},
     "output_type": "execute_result"
    }
   ],
   "source": [
    "import statsmodels.api as sm\n",
    "\n",
    "y = air[['Passengers']]\n",
    "X = air[['Promotion_Budget']]\n",
    "\n",
    "X1 = sm.add_constant(X)\n",
    "model = sm.OLS(y, X1)\n",
    "fitted1 = model.fit()\n",
    "fitted1.summary()\n",
    "\n",
    "plt.scatter(air.Promotion_Budget, air.Passengers)\n",
    "plt.plot(air.Promotion_Budget, fitted1.fittedvalues, c='r')\n",
    "print(plt.show())\n",
    "\n",
    "fitted1.predict([1,6005000])"
   ]
  },
  {
   "cell_type": "code",
   "execution_count": 79,
   "metadata": {},
   "outputs": [
    {
     "data": {
      "image/png": "[encoded data removed]",
      "text/plain": [
       "<Figure size 432x288 with 1 Axes>"
      ]
     },
     "metadata": {
      "needs_background": "light"
     },
     "output_type": "display_data"
    },
    {
     "data": {
      "image/png": "[encoded data removed]",
      "text/plain": [
       "<Figure size 432x288 with 1 Axes>"
      ]
     },
     "metadata": {
      "needs_background": "light"
     },
     "output_type": "display_data"
    }
   ],
   "source": [
    "# K-Means Clustering\n",
    "\n",
    "# Importing the libraries\n",
    "import numpy as np\n",
    "import matplotlib.pyplot as plt\n",
    "import pandas as pd\n",
    "\n",
    "# Importing the dataset\n",
    "dataset = pd.read_csv('/Users/hrishikesh/C/git/github.com/IR-ML/IBM-ML-Training/src/Mall_Customers.csv')\n",
    "X = dataset.iloc[:, [3, 4]].values\n",
    "# y = dataset.iloc[:, 3].values\n",
    "\n",
    "# Splitting the dataset into the Training set and Test set\n",
    "\"\"\"from sklearn.cross_validation import train_test_split\n",
    "X_train, X_test, y_train, y_test = train_test_split(X, y, test_size = 0.2, random_state = 0)\"\"\"\n",
    "\n",
    "# Feature Scaling\n",
    "\"\"\"from sklearn.preprocessing import StandardScaler\n",
    "sc_X = StandardScaler()\n",
    "X_train = sc_X.fit_transform(X_train)\n",
    "X_test = sc_X.transform(X_test)\n",
    "sc_y = StandardScaler()\n",
    "y_train = sc_y.fit_transform(y_train)\"\"\"\n",
    "#Block2\n",
    "# Using the elbow method to find the optimal number of clusters\n",
    "from sklearn.cluster import KMeans\n",
    "wcss = []\n",
    "for i in range(1, 11):\n",
    "    kmeans = KMeans(n_clusters = i, init = 'k-means++', random_state = 42)\n",
    "    kmeans.fit(X)\n",
    "    wcss.append(kmeans.inertia_)\n",
    "plt.plot(range(1, 11), wcss)\n",
    "plt.title('The Elbow Method')\n",
    "plt.xlabel('Number of clusters')\n",
    "plt.ylabel('WCSS')\n",
    "plt.show()\n",
    "\n",
    "#Block 3\n",
    "# Fitting K-Means to the dataset\n",
    "kmeans = KMeans(n_clusters = 5, init = 'k-means++', random_state = 42)\n",
    "y_kmeans = kmeans.fit_predict(X)\n",
    "\n",
    "#Block 4\n",
    "# Visualising the clusters\n",
    "plt.scatter(X[y_kmeans == 0, 0], X[y_kmeans == 0, 1], s = 100, c = 'red', label = 'Cluster 1')\n",
    "plt.scatter(X[y_kmeans == 1, 0], X[y_kmeans == 1, 1], s = 100, c = 'blue', label = 'Cluster 2')\n",
    "plt.scatter(X[y_kmeans == 2, 0], X[y_kmeans == 2, 1], s = 100, c = 'green', label = 'Cluster 3')\n",
    "plt.scatter(X[y_kmeans == 3, 0], X[y_kmeans == 3, 1], s = 100, c = 'cyan', label = 'Cluster 4')\n",
    "plt.scatter(X[y_kmeans == 4, 0], X[y_kmeans == 4, 1], s = 100, c = 'magenta', label = 'Cluster 5')\n",
    "plt.scatter(kmeans.cluster_centers_[:, 0], kmeans.cluster_centers_[:, 1], s = 300, c = 'yellow', label = 'Centroids')\n",
    "plt.title('Clusters of customers')\n",
    "plt.xlabel('Annual Income (k$)')\n",
    "plt.ylabel('Spending Score (1-100)')\n",
    "plt.legend()\n",
    "plt.show()\n"
   ]
  },
  {
   "cell_type": "code",
   "execution_count": null,
   "metadata": {},
   "outputs": [],
   "source": []
  }
 ],
 "metadata": {
  "kernelspec": {
   "display_name": "Python 3",
   "language": "python",
   "name": "python3"
  },
  "language_info": {
   "codemirror_mode": {
    "name": "ipython",
    "version": 3
   },
   "file_extension": ".py",
   "mimetype": "text/x-python",
   "name": "python",
   "nbconvert_exporter": "python",
   "pygments_lexer": "ipython3",
   "version": "3.7.3"
  }
 },
 "nbformat": 4,
 "nbformat_minor": 2
}
