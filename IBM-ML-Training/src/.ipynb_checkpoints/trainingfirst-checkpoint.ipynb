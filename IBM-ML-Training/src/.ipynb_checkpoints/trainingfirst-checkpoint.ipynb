{
 "cells": [
  {
   "cell_type": "code",
   "execution_count": 1,
   "metadata": {},
   "outputs": [
    {
     "name": "stdout",
     "output_type": "stream",
     "text": [
      "hello\n"
     ]
    }
   ],
   "source": [
    "print(\"hello\")"
   ]
  },
  {
   "cell_type": "code",
   "execution_count": 5,
   "metadata": {},
   "outputs": [
    {
     "data": {
      "text/plain": [
       "['ArithmeticError',\n",
       " 'AssertionError',\n",
       " 'AttributeError',\n",
       " 'BaseException',\n",
       " 'BlockingIOError',\n",
       " 'BrokenPipeError',\n",
       " 'BufferError',\n",
       " 'BytesWarning',\n",
       " 'ChildProcessError',\n",
       " 'ConnectionAbortedError',\n",
       " 'ConnectionError',\n",
       " 'ConnectionRefusedError',\n",
       " 'ConnectionResetError',\n",
       " 'DeprecationWarning',\n",
       " 'EOFError',\n",
       " 'Ellipsis',\n",
       " 'EnvironmentError',\n",
       " 'Exception',\n",
       " 'False',\n",
       " 'FileExistsError',\n",
       " 'FileNotFoundError',\n",
       " 'FloatingPointError',\n",
       " 'FutureWarning',\n",
       " 'GeneratorExit',\n",
       " 'IOError',\n",
       " 'ImportError',\n",
       " 'ImportWarning',\n",
       " 'IndentationError',\n",
       " 'IndexError',\n",
       " 'InterruptedError',\n",
       " 'IsADirectoryError',\n",
       " 'KeyError',\n",
       " 'KeyboardInterrupt',\n",
       " 'LookupError',\n",
       " 'MemoryError',\n",
       " 'ModuleNotFoundError',\n",
       " 'NameError',\n",
       " 'None',\n",
       " 'NotADirectoryError',\n",
       " 'NotImplemented',\n",
       " 'NotImplementedError',\n",
       " 'OSError',\n",
       " 'OverflowError',\n",
       " 'PendingDeprecationWarning',\n",
       " 'PermissionError',\n",
       " 'ProcessLookupError',\n",
       " 'RecursionError',\n",
       " 'ReferenceError',\n",
       " 'ResourceWarning',\n",
       " 'RuntimeError',\n",
       " 'RuntimeWarning',\n",
       " 'StopAsyncIteration',\n",
       " 'StopIteration',\n",
       " 'SyntaxError',\n",
       " 'SyntaxWarning',\n",
       " 'SystemError',\n",
       " 'SystemExit',\n",
       " 'TabError',\n",
       " 'TimeoutError',\n",
       " 'True',\n",
       " 'TypeError',\n",
       " 'UnboundLocalError',\n",
       " 'UnicodeDecodeError',\n",
       " 'UnicodeEncodeError',\n",
       " 'UnicodeError',\n",
       " 'UnicodeTranslateError',\n",
       " 'UnicodeWarning',\n",
       " 'UserWarning',\n",
       " 'ValueError',\n",
       " 'Warning',\n",
       " 'ZeroDivisionError',\n",
       " '__IPYTHON__',\n",
       " '__build_class__',\n",
       " '__debug__',\n",
       " '__doc__',\n",
       " '__import__',\n",
       " '__loader__',\n",
       " '__name__',\n",
       " '__package__',\n",
       " '__spec__',\n",
       " 'abs',\n",
       " 'all',\n",
       " 'any',\n",
       " 'ascii',\n",
       " 'bin',\n",
       " 'bool',\n",
       " 'breakpoint',\n",
       " 'bytearray',\n",
       " 'bytes',\n",
       " 'callable',\n",
       " 'chr',\n",
       " 'classmethod',\n",
       " 'compile',\n",
       " 'complex',\n",
       " 'copyright',\n",
       " 'credits',\n",
       " 'delattr',\n",
       " 'dict',\n",
       " 'dir',\n",
       " 'display',\n",
       " 'divmod',\n",
       " 'enumerate',\n",
       " 'eval',\n",
       " 'exec',\n",
       " 'filter',\n",
       " 'float',\n",
       " 'format',\n",
       " 'frozenset',\n",
       " 'get_ipython',\n",
       " 'getattr',\n",
       " 'globals',\n",
       " 'hasattr',\n",
       " 'hash',\n",
       " 'help',\n",
       " 'hex',\n",
       " 'id',\n",
       " 'input',\n",
       " 'int',\n",
       " 'isinstance',\n",
       " 'issubclass',\n",
       " 'iter',\n",
       " 'len',\n",
       " 'license',\n",
       " 'list',\n",
       " 'locals',\n",
       " 'map',\n",
       " 'max',\n",
       " 'memoryview',\n",
       " 'min',\n",
       " 'next',\n",
       " 'object',\n",
       " 'oct',\n",
       " 'open',\n",
       " 'ord',\n",
       " 'pow',\n",
       " 'print',\n",
       " 'property',\n",
       " 'range',\n",
       " 'repr',\n",
       " 'reversed',\n",
       " 'round',\n",
       " 'set',\n",
       " 'setattr',\n",
       " 'slice',\n",
       " 'sorted',\n",
       " 'staticmethod',\n",
       " 'str',\n",
       " 'sum',\n",
       " 'super',\n",
       " 'tuple',\n",
       " 'type',\n",
       " 'vars',\n",
       " 'zip']"
      ]
     },
     "execution_count": 5,
     "metadata": {},
     "output_type": "execute_result"
    }
   ],
   "source": [
    "dir(__builtins__)"
   ]
  },
  {
   "cell_type": "code",
   "execution_count": 6,
   "metadata": {},
   "outputs": [
    {
     "ename": "NameError",
     "evalue": "name 'math' is not defined",
     "output_type": "error",
     "traceback": [
      "\u001b[0;31m---------------------------------------------------------------------------\u001b[0m",
      "\u001b[0;31mNameError\u001b[0m                                 Traceback (most recent call last)",
      "\u001b[0;32m<ipython-input-6-a984292e3e46>\u001b[0m in \u001b[0;36m<module>\u001b[0;34m\u001b[0m\n\u001b[0;32m----> 1\u001b[0;31m \u001b[0mmath\u001b[0m\u001b[0;34m\u001b[0m\u001b[0;34m\u001b[0m\u001b[0m\n\u001b[0m",
      "\u001b[0;31mNameError\u001b[0m: name 'math' is not defined"
     ]
    }
   ],
   "source": [
    "math"
   ]
  },
  {
   "cell_type": "code",
   "execution_count": 7,
   "metadata": {},
   "outputs": [],
   "source": [
    "import math"
   ]
  },
  {
   "cell_type": "code",
   "execution_count": 8,
   "metadata": {},
   "outputs": [
    {
     "data": {
      "text/plain": [
       "<module 'math' from '//anaconda3/lib/python3.7/lib-dynload/math.cpython-37m-darwin.so'>"
      ]
     },
     "execution_count": 8,
     "metadata": {},
     "output_type": "execute_result"
    }
   ],
   "source": [
    "math"
   ]
  },
  {
   "cell_type": "code",
   "execution_count": 9,
   "metadata": {},
   "outputs": [
    {
     "data": {
      "text/plain": [
       "153"
      ]
     },
     "execution_count": 9,
     "metadata": {},
     "output_type": "execute_result"
    }
   ],
   "source": [
    "len(dir(__builtins__))"
   ]
  },
  {
   "cell_type": "code",
   "execution_count": 10,
   "metadata": {},
   "outputs": [
    {
     "name": "stdout",
     "output_type": "stream",
     "text": [
      "\n",
      "Please wait a moment while I gather a list of all available modules...\n",
      "\n"
     ]
    },
    {
     "name": "stderr",
     "output_type": "stream",
     "text": [
      "//anaconda3/lib/python3.7/site-packages/IPython/kernel/__init__.py:13: ShimWarning: The `IPython.kernel` package has been deprecated since IPython 4.0.You should import from ipykernel or jupyter_client instead.\n",
      "  \"You should import from ipykernel or jupyter_client instead.\", ShimWarning)\n",
      "WARNING: AstropyDeprecationWarning: astropy.utils.compat.futures is now deprecated - use concurrent.futures instead [astropy.utils.compat.futures]\n",
      "//anaconda3/lib/python3.7/site-packages/nltk/twitter/__init__.py:22: UserWarning: The twython library has not been installed. Some functionality from the twitter package will not be available.\n",
      "  \"The twython library has not been installed. \"\n"
     ]
    },
    {
     "name": "stdout",
     "output_type": "stream",
     "text": [
      "DEBUG:pip._internal.vcs:Registered VCS backend: git\n",
      "DEBUG:pip._internal.vcs:Registered VCS backend: hg\n",
      "DEBUG:pip._internal.vcs:Registered VCS backend: svn\n",
      "DEBUG:pip._internal.vcs:Registered VCS backend: bzr\n"
     ]
    },
    {
     "name": "stderr",
     "output_type": "stream",
     "text": [
      "//anaconda3/lib/python3.7/site-packages/skimage/novice/__init__.py:103: UserWarning: The `skimage.novice` module was deprecated in version 0.14. It will be removed in 0.16.\n",
      "  warnings.warn(\"The `skimage.novice` module was deprecated in version 0.14. \"\n",
      "//anaconda3/lib/python3.7/site-packages/skimage/viewer/utils/core.py:10: UserWarning: Recommended matplotlib backend is `Agg` for full skimage.viewer functionality.\n",
      "  warn(\"Recommended matplotlib backend is `Agg` for full \"\n",
      "//anaconda3/lib/python3.7/site-packages/sklearn/externals/joblib/__init__.py:15: DeprecationWarning: sklearn.externals.joblib is deprecated in 0.21 and will be removed in 0.23. Please import this functionality directly from joblib, which can be installed with: pip install joblib. If this warning is raised when loading pickled models, you may need to re-serialize those models with scikit-learn 0.21+.\n",
      "  warnings.warn(msg, category=DeprecationWarning)\n",
      "//anaconda3/lib/python3.7/site-packages/qtawesome/iconic_font.py:276: UserWarning: You need to have a running QApplication to use QtAwesome!\n",
      "  warnings.warn(\"You need to have a running \"\n",
      "//anaconda3/lib/python3.7/pkgutil.py:107: VisibleDeprecationWarning: zmq.eventloop.minitornado is deprecated in pyzmq 14.0 and will be removed.\n",
      "    Install tornado itself to use zmq with the tornado IOLoop.\n",
      "    \n",
      "  yield from walk_packages(path, info.name+'.', onerror)\n"
     ]
    },
    {
     "name": "stdout",
     "output_type": "stream",
     "text": [
      "Crypto              brain_gi            json                resource\n",
      "Cython              brain_hashlib       json5               rlcompleter\n",
      "IPython             brain_http          jsonschema          rmagic\n",
      "OpenSSL             brain_io            jupyter             rope\n",
      "PIL                 brain_mechanize     jupyter_client      ruamel_yaml\n",
      "PyQt5               brain_multiprocessing jupyter_console     runpy\n",
      "__future__          brain_namedtuple_enum jupyter_core        sched\n",
      "_abc                brain_nose          jupyterlab          scipy\n",
      "_ast                brain_numpy         jupyterlab_server   scripts\n",
      "_asyncio            brain_pkg_resources keyring             seaborn\n",
      "_bisect             brain_pytest        keyword             secrets\n",
      "_blake2             brain_qt            kiwisolver          select\n",
      "_bootlocale         brain_random        lazy_object_proxy   selectors\n",
      "_bz2                brain_re            lib2to3             send2trash\n",
      "_cffi_backend       brain_six           libarchive          setuptools\n",
      "_codecs             brain_ssl           libfuturize         shelve\n",
      "_codecs_cn          brain_subprocess    libpasteurize       shlex\n",
      "_codecs_hk          brain_threading     lief                shutil\n",
      "_codecs_iso2022     brain_typing        linecache           signal\n",
      "_codecs_jp          brain_uuid          llvmlite            simplegeneric\n",
      "_codecs_kr          bs4                 locale              singledispatch\n",
      "_codecs_tw          builtins            locket              singledispatch_helpers\n",
      "_collections        bz2                 logging             sip\n",
      "_collections_abc    cProfile            lxml                sipconfig\n",
      "_compat_pickle      calendar            lzma                sipdistutils\n",
      "_compression        certifi             macpath             site\n",
      "_contextvars        cffi                mactypes            six\n",
      "_crypt              cgi                 mailbox             skimage\n",
      "_csv                cgitb               mailcap             sklearn\n",
      "_ctypes             chardet             markupsafe          smtpd\n",
      "_ctypes_test        chunk               marshal             smtplib\n",
      "_curses             click               math                sndhdr\n",
      "_curses_panel       cloudpickle         matplotlib          snowballstemmer\n",
      "_datetime           clyent              mccabe              socket\n",
      "_dbm                cmath               mimetypes           socketserver\n",
      "_decimal            cmd                 mistune             socks\n",
      "_dummy_thread       code                mkl                 sockshandler\n",
      "_elementtree        codecs              mkl_fft             sortedcollections\n",
      "_functools          codeop              mkl_random          sortedcontainers\n",
      "_hashlib            collections         mmap                soupsieve\n",
      "_heapq              colorama            mock                sphinx\n",
      "_imp                colorsys            modulefinder        sphinxcontrib\n",
      "_io                 compileall          more_itertools      spyder\n",
      "_json               concurrent          mpmath              spyder_breakpoints\n",
      "_locale             conda               msgpack             spyder_io_dcm\n",
      "_lsprof             conda_build         multipledispatch    spyder_io_hdf5\n",
      "_lzma               conda_env           multiprocessing     spyder_kernels\n",
      "_markupbase         conda_package_handling navigator_updater   spyder_profiler\n",
      "_md5                conda_verify        nbconvert           spyder_pylint\n",
      "_multibytecodec     configparser        nbformat            sqlalchemy\n",
      "_multiprocessing    contextlib          netrc               sqlite3\n",
      "_opcode             contextlib2         networkx            sre_compile\n",
      "_operator           contextvars         nis                 sre_constants\n",
      "_osx_support        copy                nltk                sre_parse\n",
      "_pickle             copyreg             nntplib             ssl\n",
      "_posixsubprocess    crypt               nose                stat\n",
      "_py_abc             cryptography        notebook            statistics\n",
      "_pydecimal          csv                 ntpath              statsmodels\n",
      "_pyio               ctypes              nturl2path          storemagic\n",
      "_pylief             curl                numba               string\n",
      "_pyrsistent_version curses              numbers             stringprep\n",
      "_pytest             cycler              numexpr             struct\n",
      "_queue              cython              numpy               subprocess\n",
      "_random             cythonmagic         numpydoc            sunau\n",
      "_scproxy            cytoolz             olefile             symbol\n",
      "_sha1               dask                opcode              sympy\n",
      "_sha256             dataclasses         openpyxl            sympyprinting\n",
      "_sha3               datetime            operator            symtable\n",
      "_sha512             dateutil            optparse            sys\n",
      "_signal             dbm                 os                  sysconfig\n",
      "_sitebuiltins       decimal             osax                syslog\n",
      "_socket             decorator           packaging           tables\n",
      "_sqlite3            defusedxml          pandas              tabnanny\n",
      "_sre                difflib             pandocfilters       tarfile\n",
      "_ssl                dis                 parser              tblib\n",
      "_stat               distributed         parso               telnetlib\n",
      "_string             distutils           partd               tempfile\n",
      "_strptime           doctest             past                terminado\n",
      "_struct             docutils            path                termios\n",
      "_symtable           dummy_threading     pathlib             test\n",
      "_sysconfigdata_i686_conda_cos6_linux_gnu easy_install        pathlib2            test_data\n",
      "_sysconfigdata_m_darwin_darwin email               patsy               test_pycosat\n",
      "_sysconfigdata_powerpc64le_conda_cos7_linux_gnu encodings           pdb                 testpath\n",
      "_sysconfigdata_x86_64_apple_darwin13_4_0 ensurepip           pep8                tests\n",
      "_sysconfigdata_x86_64_conda_cos6_linux_gnu entrypoints         pexpect             textwrap\n",
      "_testbuffer         enum                pickle              this\n",
      "_testcapi           errno               pickleshare         threading\n",
      "_testimportmultiple et_xmlfile          pickletools         time\n",
      "_testmultiphase     fastcache           pip                 timeit\n",
      "_thread             faulthandler        pipes               tkinter\n",
      "_threading_local    fcntl               pkg_resources       tlz\n",
      "_tkinter            filecmp             pkginfo             token\n",
      "_tracemalloc        fileinput           pkgutil             tokenize\n",
      "_uuid               filelock            platform            toolz\n",
      "_warnings           flask               plistlib            tornado\n",
      "_weakref            fnmatch             pluggy              tqdm\n",
      "_weakrefset         formatter           ply                 trace\n",
      "_xxtestfuzz         fractions           poplib              traceback\n",
      "_yaml               ftplib              posix               tracemalloc\n",
      "abc                 functools           posixpath           traitlets\n",
      "aem                 future              pprint              tty\n",
      "aifc                gc                  profile             turtle\n",
      "alabaster           genericpath         prometheus_client   turtledemo\n",
      "anaconda_navigator  getopt              prompt_toolkit      types\n",
      "anaconda_project    getpass             pstats              typing\n",
      "antigravity         gettext             psutil              unicodecsv\n",
      "appnope             gevent              pty                 unicodedata\n",
      "appscript           glob                ptyprocess          unittest\n",
      "argparse            glob2               pvectorc            urllib\n",
      "array               gmpy2               pwd                 urllib3\n",
      "asn1crypto          greenlet            py                  uu\n",
      "ast                 grp                 py_compile          uuid\n",
      "astroid             gzip                pyclbr              venv\n",
      "astropy             h5py                pycodestyle         warnings\n",
      "asynchat            hashlib             pycosat             wave\n",
      "asyncio             heapdict            pycparser           wcwidth\n",
      "asyncore            heapq               pycurl              weakref\n",
      "atexit              hmac                pydoc               webbrowser\n",
      "atomicwrites        html                pydoc_data          webencodings\n",
      "attr                html5lib            pyexpat             werkzeug\n",
      "audioop             http                pyflakes            wheel\n",
      "autoreload          idlelib             pygments            widgetsnbextension\n",
      "babel               idna                pylab               wrapt\n",
      "backcall            imageio             pylint              wsgiref\n",
      "backports           imagesize           pyodbc              wurlitzer\n",
      "base64              imaplib             pyparsing           xdrlib\n",
      "bdb                 imghdr              pyrsistent          xlrd\n",
      "binascii            imp                 pytest              xlsxwriter\n",
      "binhex              importlib           pytest_arraydiff    xlwings\n",
      "binstar_client      importlib_metadata  pytest_doctestplus  xlwt\n",
      "bisect              inspect             pytest_openfiles    xml\n",
      "bitarray            io                  pytest_remotedata   xmlrpc\n",
      "bkcharts            ipaddress           pytz                xxlimited\n",
      "bleach              ipykernel           pywt                xxsubtype\n",
      "bokeh               ipykernel_launcher  pyximport           yaml\n",
      "boto                ipython_genutils    qtawesome           zict\n",
      "bottleneck          ipywidgets          qtconsole           zipapp\n",
      "brain_argparse      isort               qtpy                zipfile\n",
      "brain_attrs         isympy              queue               zipimport\n",
      "brain_builtin_inference itertools           quopri              zipp\n",
      "brain_collections   itsdangerous        random              zlib\n",
      "brain_curses        jdcal               re                  zmq\n",
      "brain_dateutil      jedi                readline            \n",
      "brain_fstrings      jinja2              reprlib             \n",
      "brain_functools     joblib              requests            \n",
      "\n",
      "Enter any module name to get more help.  Or, type \"modules spam\" to search\n",
      "for modules whose name or summary contain the string \"spam\".\n",
      "\n",
      "DEBUG:matplotlib.pyplot:Loaded backend module://ipykernel.pylab.backend_inline version unknown.\n"
     ]
    }
   ],
   "source": [
    "help('modules')"
   ]
  },
  {
   "cell_type": "code",
   "execution_count": 12,
   "metadata": {},
   "outputs": [],
   "source": [
    "# pypi.org - to find the list of external modules"
   ]
  },
  {
   "cell_type": "code",
   "execution_count": 13,
   "metadata": {},
   "outputs": [
    {
     "name": "stdout",
     "output_type": "stream",
     "text": [
      "Please enter the first number1\n",
      "Please enter the first number2\n",
      "Please enter the first number3\n",
      "3\n"
     ]
    }
   ],
   "source": [
    "x = int(input(\"Please enter the first number\"))\n",
    "y = int(input(\"Please enter the first number\"))\n",
    "z = int(input(\"Please enter the first number\"))\n",
    "print (max(x,y,z))"
   ]
  },
  {
   "cell_type": "code",
   "execution_count": 14,
   "metadata": {},
   "outputs": [],
   "source": [
    "lista=[]\n",
    "lista=[2,3,4,'kiran']"
   ]
  },
  {
   "cell_type": "code",
   "execution_count": 15,
   "metadata": {},
   "outputs": [
    {
     "data": {
      "text/plain": [
       "[2, 3, 4, 'kiran']"
      ]
     },
     "execution_count": 15,
     "metadata": {},
     "output_type": "execute_result"
    }
   ],
   "source": [
    "lista"
   ]
  },
  {
   "cell_type": "code",
   "execution_count": 16,
   "metadata": {},
   "outputs": [
    {
     "data": {
      "text/plain": [
       "[]"
      ]
     },
     "execution_count": 16,
     "metadata": {},
     "output_type": "execute_result"
    }
   ],
   "source": [
    "listb=[]\n",
    "lista.append(listb)\n",
    "listb"
   ]
  },
  {
   "cell_type": "code",
   "execution_count": 17,
   "metadata": {},
   "outputs": [
    {
     "data": {
      "text/plain": [
       "[2, 3, 4, 'kiran', []]"
      ]
     },
     "execution_count": 17,
     "metadata": {},
     "output_type": "execute_result"
    }
   ],
   "source": [
    "lista"
   ]
  },
  {
   "cell_type": "code",
   "execution_count": 18,
   "metadata": {},
   "outputs": [
    {
     "data": {
      "text/plain": [
       "['kiran', []]"
      ]
     },
     "execution_count": 18,
     "metadata": {},
     "output_type": "execute_result"
    }
   ],
   "source": [
    "lista[3:5]"
   ]
  },
  {
   "cell_type": "code",
   "execution_count": 19,
   "metadata": {},
   "outputs": [
    {
     "data": {
      "text/plain": [
       "[3, 4]"
      ]
     },
     "execution_count": 19,
     "metadata": {},
     "output_type": "execute_result"
    }
   ],
   "source": [
    "lista[-4:-2]"
   ]
  },
  {
   "cell_type": "code",
   "execution_count": 20,
   "metadata": {},
   "outputs": [
    {
     "name": "stdout",
     "output_type": "stream",
     "text": [
      "number ?4\n",
      "the absolute value of  4.0 is  4.0\n",
      "110\n"
     ]
    }
   ],
   "source": [
    "n = float(input(\"number ?\"))\n",
    "if n >=0:\n",
    "    print(\"the absolute value of \",n, \"is \", n)\n",
    "else:\n",
    "    print(\"the absolute value of \",n, \"is \", -n)\n",
    "\n",
    "sumofnum=50+60\n",
    "print(sumofnum)"
   ]
  },
  {
   "cell_type": "code",
   "execution_count": 22,
   "metadata": {},
   "outputs": [],
   "source": [
    "fh = open ('C/git/github.com/IR-ML/IBM-ML-Training/src/demo1141.txt', 'w')\n",
    "fh.writelines(\"this is line no. 1\")\n",
    "fh.writelines(\"         \")\n",
    "fh.writelines(\"this is line no. 2\")\n",
    "fh.close()"
   ]
  },
  {
   "cell_type": "code",
   "execution_count": 23,
   "metadata": {},
   "outputs": [
    {
     "name": "stdout",
     "output_type": "stream",
     "text": [
      "this is line no. 1         this is line no. 2\n"
     ]
    }
   ],
   "source": [
    "fh = open ('C/git/github.com/IR-ML/IBM-ML-Training/src/demo1141.txt', 'r')\n",
    "print(fh.read())"
   ]
  },
  {
   "cell_type": "code",
   "execution_count": 27,
   "metadata": {},
   "outputs": [
    {
     "name": "stdout",
     "output_type": "stream",
     "text": [
      "DEBUG:chardet.charsetprober:utf-8  confidence = 0.99\n",
      "DEBUG:chardet.charsetprober:SHIFT_JIS Japanese confidence = 0.01\n",
      "DEBUG:chardet.charsetprober:EUC-JP Japanese confidence = 0.01\n",
      "DEBUG:chardet.charsetprober:GB2312 Chinese confidence = 0.01\n",
      "DEBUG:chardet.charsetprober:EUC-KR Korean confidence = 0.01\n",
      "DEBUG:chardet.charsetprober:CP949 Korean confidence = 0.01\n",
      "DEBUG:chardet.charsetprober:Big5 Chinese confidence = 0.01\n",
      "DEBUG:chardet.charsetprober:EUC-TW Taiwan confidence = 0.01\n",
      "DEBUG:chardet.charsetprober:windows-1251 Russian confidence = 0.01\n",
      "DEBUG:chardet.charsetprober:KOI8-R Russian confidence = 0.01\n",
      "DEBUG:chardet.charsetprober:ISO-8859-5 Russian confidence = 0.0\n",
      "DEBUG:chardet.charsetprober:MacCyrillic Russian confidence = 0.01\n",
      "DEBUG:chardet.charsetprober:IBM866 Russian confidence = 0.01\n",
      "DEBUG:chardet.charsetprober:IBM855 Russian confidence = 0.0\n",
      "DEBUG:chardet.charsetprober:ISO-8859-7 Greek confidence = 0.0\n",
      "DEBUG:chardet.charsetprober:windows-1253 Greek confidence = 0.01\n",
      "DEBUG:chardet.charsetprober:ISO-8859-5 Bulgairan confidence = 0.0\n",
      "DEBUG:chardet.charsetprober:windows-1251 Bulgarian confidence = 0.01\n",
      "DEBUG:chardet.charsetprober:TIS-620 Thai confidence = 0.0\n",
      "DEBUG:chardet.charsetprober:ISO-8859-9 Turkish confidence = 0.5305838915912633\n",
      "DEBUG:chardet.charsetprober:windows-1255 Hebrew confidence = 0.0\n",
      "DEBUG:chardet.charsetprober:windows-1255 Hebrew confidence = 0.0\n",
      "DEBUG:chardet.charsetprober:windows-1255 Hebrew confidence = 0.0\n",
      "DEBUG:chardet.charsetprober:utf-8  confidence = 0.99\n",
      "DEBUG:chardet.charsetprober:SHIFT_JIS Japanese confidence = 0.01\n",
      "DEBUG:chardet.charsetprober:EUC-JP Japanese confidence = 0.01\n",
      "DEBUG:chardet.charsetprober:GB2312 Chinese confidence = 0.01\n",
      "DEBUG:chardet.charsetprober:EUC-KR Korean confidence = 0.01\n",
      "DEBUG:chardet.charsetprober:CP949 Korean confidence = 0.01\n",
      "DEBUG:chardet.charsetprober:Big5 Chinese confidence = 0.01\n",
      "DEBUG:chardet.charsetprober:EUC-TW Taiwan confidence = 0.01\n",
      "<title>Python Programming Tutorials</title>\n"
     ]
    }
   ],
   "source": [
    "import bs4 as bs\n",
    "import urllib.request\n",
    "\n",
    "sause = urllib.request.urlopen(\"https://pythonprogramming.net/parsememcparseface/\")\n",
    "soup = bs.BeautifulSoup(sause, 'lxml')\n",
    "print(soup.title)"
   ]
  },
  {
   "cell_type": "code",
   "execution_count": null,
   "metadata": {},
   "outputs": [],
   "source": []
  }
 ],
 "metadata": {
  "kernelspec": {
   "display_name": "Python 3",
   "language": "python",
   "name": "python3"
  },
  "language_info": {
   "codemirror_mode": {
    "name": "ipython",
    "version": 3
   },
   "file_extension": ".py",
   "mimetype": "text/x-python",
   "name": "python",
   "nbconvert_exporter": "python",
   "pygments_lexer": "ipython3",
   "version": "3.7.3"
  }
 },
 "nbformat": 4,
 "nbformat_minor": 2
}
